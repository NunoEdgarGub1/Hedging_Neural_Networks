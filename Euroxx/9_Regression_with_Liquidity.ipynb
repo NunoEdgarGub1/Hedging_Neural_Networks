{
 "cells": [
  {
   "cell_type": "code",
   "execution_count": 1,
   "metadata": {},
   "outputs": [],
   "source": [
    "import sys\n",
    "import os\n",
    "# Append the library path to PYTHONPATH, so library can be imported.\n",
    "sys.path.append(os.path.dirname(os.getcwd()))\n",
    "import shutil\n",
    "import numpy as np\n",
    "import pandas as pd\n",
    "\n",
    "from library import stoxx as st\n",
    "from library import common as cm"
   ]
  },
  {
   "cell_type": "code",
   "execution_count": 2,
   "metadata": {},
   "outputs": [],
   "source": [
    "%run setup.py\n",
    "%load_ext autoreload\n",
    "%autoreload 2\n",
    "\n",
    "np.random.seed(RANDOM_SEED)"
   ]
  },
  {
   "cell_type": "code",
   "execution_count": 3,
   "metadata": {},
   "outputs": [],
   "source": [
    "clean_dir = DATA_DIR + 'CleanData/'"
   ]
  },
  {
   "cell_type": "code",
   "execution_count": 4,
   "metadata": {},
   "outputs": [],
   "source": [
    "df = pd.read_csv(clean_dir + f'Options_with_Liquidity_{FREQ}.csv', index_col=0,\n",
    "                parse_dates=['ExecuteTime0', 'FuturesExpiry', 'Expiry', 'date', 'DateTime_LIQ'],\n",
    "                dtype={'SecurityType': 'category',\n",
    "                        'TrdType': 'category',\n",
    "                        'AggressorSide': 'category',\n",
    "                          'cp_int': 'int'})"
   ]
  },
  {
   "cell_type": "code",
   "execution_count": 5,
   "metadata": {},
   "outputs": [
    {
     "data": {
      "text/plain": [
       "(641234, 57)"
      ]
     },
     "execution_count": 5,
     "metadata": {},
     "output_type": "execute_result"
    }
   ],
   "source": [
    "df.shape"
   ]
  },
  {
   "cell_type": "code",
   "execution_count": null,
   "metadata": {},
   "outputs": [],
   "source": []
  },
  {
   "cell_type": "code",
   "execution_count": null,
   "metadata": {},
   "outputs": [],
   "source": []
  },
  {
   "cell_type": "code",
   "execution_count": null,
   "metadata": {},
   "outputs": [],
   "source": []
  },
  {
   "cell_type": "markdown",
   "metadata": {},
   "source": [
    "The `SIDE` in the liquidty file is the same as the `AggressorSide`, due to the way the data is merged."
   ]
  },
  {
   "cell_type": "code",
   "execution_count": 6,
   "metadata": {},
   "outputs": [],
   "source": [
    "df = df.loc[df['LIQUIDITY_IND'].notna()]"
   ]
  },
  {
   "cell_type": "code",
   "execution_count": 7,
   "metadata": {},
   "outputs": [
    {
     "data": {
      "text/plain": [
       "(376791, 57)"
      ]
     },
     "execution_count": 7,
     "metadata": {},
     "output_type": "execute_result"
    }
   ],
   "source": [
    "df.shape"
   ]
  },
  {
   "cell_type": "code",
   "execution_count": null,
   "metadata": {},
   "outputs": [],
   "source": []
  },
  {
   "cell_type": "code",
   "execution_count": 8,
   "metadata": {},
   "outputs": [
    {
     "data": {
      "text/plain": [
       "(226504, 57)"
      ]
     },
     "execution_count": 8,
     "metadata": {},
     "output_type": "execute_result"
    }
   ],
   "source": [
    "bl = df['ExecuteTime0'] - df['DateTime_LIQ'] < LAG_LIQ_TOL\n",
    "df = df.loc[bl]\n",
    "\n",
    "df.shape"
   ]
  },
  {
   "cell_type": "code",
   "execution_count": null,
   "metadata": {},
   "outputs": [],
   "source": []
  },
  {
   "cell_type": "code",
   "execution_count": null,
   "metadata": {},
   "outputs": [],
   "source": []
  },
  {
   "cell_type": "code",
   "execution_count": 9,
   "metadata": {},
   "outputs": [],
   "source": [
    "max_period = max([int(s[6:]) for s in df.columns if 'period' in s])"
   ]
  },
  {
   "cell_type": "markdown",
   "metadata": {},
   "source": [
    "There are 4 extra liquidty information. `LIQUIDITY_IND` is the most hopeful one."
   ]
  },
  {
   "cell_type": "code",
   "execution_count": 10,
   "metadata": {},
   "outputs": [],
   "source": [
    "regr_dir = res_dir + f'Regression_LIQ_{LAG_LIQ_TOL_f}/'"
   ]
  },
  {
   "cell_type": "code",
   "execution_count": 11,
   "metadata": {},
   "outputs": [
    {
     "data": {
      "text/plain": [
       "'C:\\\\Users\\\\Weiguan\\\\Dropbox\\\\Research\\\\DeepHedging\\\\Data\\\\Euroxx\\\\Result/FREQ=1H_OTM=True_MINM=0.8_MAXM=1.5_Permute=False_VIX=False_WINDOW=90D_AGGSIDE=False_MATCHING=0.1H_CLOSENESS=False/Regression_LIQ_0.25/'"
      ]
     },
     "execution_count": 11,
     "metadata": {},
     "output_type": "execute_result"
    }
   ],
   "source": [
    "regr_dir"
   ]
  },
  {
   "cell_type": "code",
   "execution_count": 12,
   "metadata": {},
   "outputs": [
    {
     "name": "stdout",
     "output_type": "stream",
     "text": [
      "Results are saved at:\n",
      "C:\\Users\\Weiguan\\Dropbox\\Research\\DeepHedging\\Data\\Euroxx\\Result/FREQ=1H_OTM=True_MINM=0.8_MAXM=1.5_Permute=False_VIX=False_WINDOW=90D_AGGSIDE=False_MATCHING=0.1H_CLOSENESS=False/Regression_LIQ_0.25/\n"
     ]
    }
   ],
   "source": [
    "if os.path.exists(regr_dir):\n",
    "    shutil.rmtree(regr_dir)\n",
    "os.makedirs(regr_dir)\n",
    "\n",
    "print(f'Results are saved at:\\n{regr_dir}')"
   ]
  },
  {
   "cell_type": "code",
   "execution_count": 13,
   "metadata": {},
   "outputs": [],
   "source": [
    "def save_tables(res, dirs):\n",
    "    if res is not None:\n",
    "        res['df_coef'].to_csv(f'{dirs}coef.csv')\n",
    "        res['df_fit_std'].to_csv(f'{dirs}std.csv')\n",
    "    \n",
    "    ins = cm.LocalInspector({'MSHE': f'{dirs}'})\n",
    "    ins.load_real_pnl()\n",
    "    ins.compare_period().to_csv(f'{dirs}period_pnl.csv')"
   ]
  },
  {
   "cell_type": "code",
   "execution_count": 14,
   "metadata": {},
   "outputs": [],
   "source": [
    "if not PERMUTE:\n",
    "    sub_regr_dir = f'{regr_dir}Vega_LIQ/'\n",
    "    kwargs = {\n",
    "        'vix': VIX,\n",
    "        'features': ['vega_n', 'LIQUIDITY_IND'],\n",
    "        'max_period': max_period,\n",
    "        'sub_res': f'{sub_regr_dir}pnl/',\n",
    "        'pnl_path': f'{sub_regr_dir}pnl/pnl.csv',\n",
    "        'df': df,\n",
    "        'hull_white': True,\n",
    "        'agg_side': AGG_SIDE_FLAG\n",
    "    }\n",
    "\n",
    "    res = cm.run_store_lin(**kwargs)\n",
    "    save_tables(res, sub_regr_dir)"
   ]
  },
  {
   "cell_type": "code",
   "execution_count": 15,
   "metadata": {},
   "outputs": [
    {
     "data": {
      "text/plain": [
       "'C:\\\\Users\\\\Weiguan\\\\Dropbox\\\\Research\\\\DeepHedging\\\\Data\\\\Euroxx\\\\Result/FREQ=1H_OTM=True_MINM=0.8_MAXM=1.5_Permute=False_VIX=False_WINDOW=90D_AGGSIDE=False_MATCHING=0.1H_CLOSENESS=False/Regression_LIQ_0.25/Vega_LIQ/pnl/pnl.csv'"
      ]
     },
     "execution_count": 15,
     "metadata": {},
     "output_type": "execute_result"
    }
   ],
   "source": [
    "f'{sub_regr_dir}pnl/pnl.csv'"
   ]
  },
  {
   "cell_type": "code",
   "execution_count": 16,
   "metadata": {},
   "outputs": [],
   "source": [
    "pnl = pd.read_csv(f'{sub_regr_dir}pnl/pnl.csv')"
   ]
  },
  {
   "cell_type": "code",
   "execution_count": 17,
   "metadata": {},
   "outputs": [
    {
     "data": {
      "text/plain": [
       "0.0008389546397758429"
      ]
     },
     "execution_count": 17,
     "metadata": {},
     "output_type": "execute_result"
    }
   ],
   "source": [
    "(pnl['PNL']**2).mean()"
   ]
  },
  {
   "cell_type": "code",
   "execution_count": 18,
   "metadata": {},
   "outputs": [],
   "source": [
    "if not PERMUTE:\n",
    "    sub_regr_dir = f'{regr_dir}Vega/'\n",
    "    kwargs = {\n",
    "        'vix': VIX,\n",
    "        'features': ['vega_n'],\n",
    "        'max_period': max_period,\n",
    "        'sub_res': f'{sub_regr_dir}pnl/',\n",
    "        'pnl_path': f'{sub_regr_dir}pnl/pnl.csv',\n",
    "        'df': df,\n",
    "        'hull_white': True,\n",
    "        'agg_side': AGG_SIDE_FLAG\n",
    "    }\n",
    "\n",
    "    res = cm.run_store_lin(**kwargs)\n",
    "    save_tables(res, sub_regr_dir)"
   ]
  },
  {
   "cell_type": "code",
   "execution_count": 19,
   "metadata": {},
   "outputs": [
    {
     "data": {
      "text/plain": [
       "'C:\\\\Users\\\\Weiguan\\\\Dropbox\\\\Research\\\\DeepHedging\\\\Data\\\\Euroxx\\\\Result/FREQ=1H_OTM=True_MINM=0.8_MAXM=1.5_Permute=False_VIX=False_WINDOW=90D_AGGSIDE=False_MATCHING=0.1H_CLOSENESS=False/Regression_LIQ_0.25/Vega/pnl/pnl.csv'"
      ]
     },
     "execution_count": 19,
     "metadata": {},
     "output_type": "execute_result"
    }
   ],
   "source": [
    "f'{sub_regr_dir}pnl/pnl.csv'"
   ]
  },
  {
   "cell_type": "code",
   "execution_count": 20,
   "metadata": {},
   "outputs": [],
   "source": [
    "pnl = pd.read_csv(f'{sub_regr_dir}pnl/pnl.csv')"
   ]
  },
  {
   "cell_type": "code",
   "execution_count": 21,
   "metadata": {},
   "outputs": [
    {
     "data": {
      "text/plain": [
       "0.000837887452967732"
      ]
     },
     "execution_count": 21,
     "metadata": {},
     "output_type": "execute_result"
    }
   ],
   "source": [
    "(pnl['PNL']**2).mean()"
   ]
  },
  {
   "cell_type": "code",
   "execution_count": 22,
   "metadata": {},
   "outputs": [],
   "source": [
    "if not PERMUTE:\n",
    "    sub_regr_dir = f'{regr_dir}Delta_Vega_LIQ/'\n",
    "    kwargs = {\n",
    "        'vix': VIX,\n",
    "        'features': ['delta_bs', 'vega_n', 'LIQUIDITY_IND'],\n",
    "        'max_period': max_period,\n",
    "        'sub_res': f'{sub_regr_dir}pnl/',\n",
    "        'pnl_path': f'{sub_regr_dir}pnl/pnl.csv',\n",
    "        'df': df,\n",
    "        'hull_white': False,\n",
    "        'agg_side': AGG_SIDE_FLAG\n",
    "    }\n",
    "\n",
    "    res = cm.run_store_lin(**kwargs)\n",
    "    save_tables(res, sub_regr_dir)"
   ]
  },
  {
   "cell_type": "code",
   "execution_count": 23,
   "metadata": {},
   "outputs": [
    {
     "name": "stdout",
     "output_type": "stream",
     "text": [
      "C:\\Users\\Weiguan\\Dropbox\\Research\\DeepHedging\\Data\\Euroxx\\Result/FREQ=1H_OTM=True_MINM=0.8_MAXM=1.5_Permute=False_VIX=False_WINDOW=90D_AGGSIDE=False_MATCHING=0.1H_CLOSENESS=False/Regression_LIQ_0.25/Delta_Vega_LIQ/pnl/pnl.csv\n"
     ]
    },
    {
     "data": {
      "text/plain": [
       "0.0008379450031569791"
      ]
     },
     "execution_count": 23,
     "metadata": {},
     "output_type": "execute_result"
    }
   ],
   "source": [
    "print(f'{sub_regr_dir}pnl/pnl.csv')\n",
    "pnl = pd.read_csv(f'{sub_regr_dir}pnl/pnl.csv')\n",
    "(pnl['PNL']**2).mean()"
   ]
  },
  {
   "cell_type": "code",
   "execution_count": null,
   "metadata": {},
   "outputs": [],
   "source": []
  },
  {
   "cell_type": "code",
   "execution_count": null,
   "metadata": {},
   "outputs": [],
   "source": []
  },
  {
   "cell_type": "code",
   "execution_count": null,
   "metadata": {},
   "outputs": [],
   "source": []
  },
  {
   "cell_type": "code",
   "execution_count": null,
   "metadata": {},
   "outputs": [],
   "source": []
  },
  {
   "cell_type": "code",
   "execution_count": null,
   "metadata": {},
   "outputs": [],
   "source": []
  }
 ],
 "metadata": {
  "kernelspec": {
   "display_name": "Python 3",
   "language": "python",
   "name": "python3"
  },
  "language_info": {
   "codemirror_mode": {
    "name": "ipython",
    "version": 3
   },
   "file_extension": ".py",
   "mimetype": "text/x-python",
   "name": "python",
   "nbconvert_exporter": "python",
   "pygments_lexer": "ipython3",
   "version": "3.6.8"
  },
  "toc": {
   "base_numbering": 1,
   "nav_menu": {},
   "number_sections": true,
   "sideBar": true,
   "skip_h1_title": false,
   "title_cell": "Table of Contents",
   "title_sidebar": "Contents",
   "toc_cell": false,
   "toc_position": {},
   "toc_section_display": true,
   "toc_window_display": false
  }
 },
 "nbformat": 4,
 "nbformat_minor": 2
}
